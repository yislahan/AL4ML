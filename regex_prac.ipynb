{
  "nbformat": 4,
  "nbformat_minor": 0,
  "metadata": {
    "colab": {
      "provenance": [],
      "toc_visible": true,
      "include_colab_link": true
    },
    "kernelspec": {
      "name": "python3",
      "display_name": "Python 3"
    },
    "language_info": {
      "name": "python"
    }
  },
  "cells": [
    {
      "cell_type": "markdown",
      "metadata": {
        "id": "view-in-github",
        "colab_type": "text"
      },
      "source": [
        "<a href=\"https://colab.research.google.com/github/yislahan/AL4ML/blob/main/regex_prac.ipynb\" target=\"_parent\"><img src=\"https://colab.research.google.com/assets/colab-badge.svg\" alt=\"Open In Colab\"/></a>"
      ]
    },
    {
      "cell_type": "markdown",
      "source": [
        "# Regular expression excercise"
      ],
      "metadata": {
        "id": "RJk30uU-VqpA"
      }
    },
    {
      "cell_type": "markdown",
      "source": [
        "## sample code"
      ],
      "metadata": {
        "id": "Bl2A-dzdVt9w"
      }
    },
    {
      "cell_type": "code",
      "source": [
        "import re"
      ],
      "metadata": {
        "id": "MWxumd6DS7iX"
      },
      "execution_count": 1,
      "outputs": []
    },
    {
      "cell_type": "code",
      "execution_count": 2,
      "metadata": {
        "id": "O5dYRhgKSqcM"
      },
      "outputs": [],
      "source": [
        "\n",
        "regex = r\"aa\"\n",
        "\n",
        "test_str = (\"hello world\\n\"\n",
        "\t\"4aa  13\\n\"\n",
        "\t\"aba  b44\\n\"\n",
        "\t\"ababaa5\\n\"\n",
        "\t\"yaya---\\n\"\n",
        "\t\"ikwak2@cau.ac.kr\\n\"\n",
        "\t\"il.youp.kwak@gmail.com\\n\"\n",
        "\t\"02-111-1234\\n\"\n",
        "\t\"010-3234-5555\\n\"\n",
        "\t\"01032321111\\n\"\n",
        "\t\"hello send me a message(name.kwak@cau.ac.kr)\\n\"\n",
        "\t\"call me (032 111 1424)\\n\")\n",
        "\n",
        "\n",
        "matches = re.finditer(regex, test_str, re.MULTILINE)\n",
        "\n"
      ]
    },
    {
      "cell_type": "code",
      "source": [
        "matches"
      ],
      "metadata": {
        "colab": {
          "base_uri": "https://localhost:8080/"
        },
        "id": "dAasUHZ0TBRI",
        "outputId": "582b6ab1-ab6a-4d4a-8e1f-3880aeedacb3"
      },
      "execution_count": 3,
      "outputs": [
        {
          "output_type": "execute_result",
          "data": {
            "text/plain": [
              "<callable_iterator at 0x7e29ec11c8b0>"
            ]
          },
          "metadata": {},
          "execution_count": 3
        }
      ]
    },
    {
      "cell_type": "code",
      "source": [
        "for matchNum, match in enumerate(matches, start=1):\n",
        "\n",
        "    print (\"Match {matchNum} was found at {start}-{end}: {match}\".format(matchNum = matchNum, start = match.start(), end = match.end(), match = match.group()))\n",
        "\n",
        "    for groupNum in range(0, len(match.groups())):\n",
        "        groupNum = groupNum + 1\n",
        "\n",
        "        print (\"Group {groupNum} found at {start}-{end}: {group}\".format(groupNum = groupNum, start = match.start(groupNum), end = match.end(groupNum), group = match.group(groupNum)))\n"
      ],
      "metadata": {
        "colab": {
          "base_uri": "https://localhost:8080/"
        },
        "id": "21x-F-6mTAcy",
        "outputId": "1c9116d2-3271-48e2-87d8-5424e0cf5a20"
      },
      "execution_count": 4,
      "outputs": [
        {
          "output_type": "stream",
          "name": "stdout",
          "text": [
            "Match 1 was found at 13-15: aa\n",
            "Match 2 was found at 33-35: aa\n"
          ]
        }
      ]
    },
    {
      "cell_type": "code",
      "source": [],
      "metadata": {
        "id": "d3DGI7fxVpAY"
      },
      "execution_count": null,
      "outputs": []
    },
    {
      "cell_type": "markdown",
      "source": [
        "## Character classes"
      ],
      "metadata": {
        "id": "iy4odYlpVw24"
      }
    },
    {
      "cell_type": "code",
      "source": [
        "\n",
        "print(test_str)\n",
        "print(\"---------------------------------------\")\n",
        "\n",
        "regex = r\"\\w\\W\"\n",
        "\n",
        "matches = re.finditer(regex, test_str, re.MULTILINE)\n",
        "\n",
        "for matchNum, match in enumerate(matches, start=1):\n",
        "\n",
        "    print (\"Match {matchNum} was found at {start}-{end}: {match}\".format(matchNum = matchNum, start = match.start(), end = match.end(), match = match.group()))\n",
        "\n",
        "    for groupNum in range(0, len(match.groups())):\n",
        "        groupNum = groupNum + 1\n",
        "\n",
        "        print (\"Group {groupNum} found at {start}-{end}: {group}\".format(groupNum = groupNum, start = match.start(groupNum), end = match.end(groupNum), group = match.group(groupNum)))\n"
      ],
      "metadata": {
        "colab": {
          "base_uri": "https://localhost:8080/"
        },
        "id": "YAn_sjfuTMhY",
        "outputId": "d79a134d-76ab-4721-8aa8-eb0b3e363c9a"
      },
      "execution_count": 5,
      "outputs": [
        {
          "output_type": "stream",
          "name": "stdout",
          "text": [
            "hello world\n",
            "4aa  13\n",
            "aba  b44\n",
            "ababaa5\n",
            "yaya---\n",
            "ikwak2@cau.ac.kr\n",
            "il.youp.kwak@gmail.com\n",
            "02-111-1234\n",
            "010-3234-5555\n",
            "01032321111\n",
            "hello send me a message(name.kwak@cau.ac.kr)\n",
            "call me (032 111 1424)\n",
            "\n",
            "---------------------------------------\n",
            "Match 1 was found at 4-6: o \n",
            "Match 2 was found at 10-12: d\n",
            "\n",
            "Match 3 was found at 14-16: a \n",
            "Match 4 was found at 18-20: 3\n",
            "\n",
            "Match 5 was found at 22-24: a \n",
            "Match 6 was found at 27-29: 4\n",
            "\n",
            "Match 7 was found at 35-37: 5\n",
            "\n",
            "Match 8 was found at 40-42: a-\n",
            "Match 9 was found at 50-52: 2@\n",
            "Match 10 was found at 54-56: u.\n",
            "Match 11 was found at 57-59: c.\n",
            "Match 12 was found at 60-62: r\n",
            "\n",
            "Match 13 was found at 63-65: l.\n",
            "Match 14 was found at 68-70: p.\n",
            "Match 15 was found at 73-75: k@\n",
            "Match 16 was found at 79-81: l.\n",
            "Match 17 was found at 83-85: m\n",
            "\n",
            "Match 18 was found at 86-88: 2-\n",
            "Match 19 was found at 90-92: 1-\n",
            "Match 20 was found at 95-97: 4\n",
            "\n",
            "Match 21 was found at 99-101: 0-\n",
            "Match 22 was found at 104-106: 4-\n",
            "Match 23 was found at 109-111: 5\n",
            "\n",
            "Match 24 was found at 121-123: 1\n",
            "\n",
            "Match 25 was found at 127-129: o \n",
            "Match 26 was found at 132-134: d \n",
            "Match 27 was found at 135-137: e \n",
            "Match 28 was found at 137-139: a \n",
            "Match 29 was found at 145-147: e(\n",
            "Match 30 was found at 150-152: e.\n",
            "Match 31 was found at 155-157: k@\n",
            "Match 32 was found at 159-161: u.\n",
            "Match 33 was found at 162-164: c.\n",
            "Match 34 was found at 165-167: r)\n",
            "Match 35 was found at 171-173: l \n",
            "Match 36 was found at 174-176: e \n",
            "Match 37 was found at 179-181: 2 \n",
            "Match 38 was found at 183-185: 1 \n",
            "Match 39 was found at 188-190: 4)\n"
          ]
        }
      ]
    },
    {
      "cell_type": "code",
      "source": [
        "print(test_str)\n",
        "print(\"---------------------------------------\")\n",
        "\n",
        "regex = r\"[ab][ab]\"\n",
        "\n",
        "matches = re.finditer(regex, test_str, re.MULTILINE)\n",
        "for matchNum, match in enumerate(matches, start=1):\n",
        "\n",
        "    print (\"Match {matchNum} was found at {start}-{end}: {match}\".format(matchNum = matchNum, start = match.start(), end = match.end(), match = match.group()))\n",
        "\n",
        "    for groupNum in range(0, len(match.groups())):\n",
        "        groupNum = groupNum + 1\n",
        "\n",
        "        print (\"Group {groupNum} found at {start}-{end}: {group}\".format(groupNum = groupNum, start = match.start(groupNum), end = match.end(groupNum), group = match.group(groupNum)))"
      ],
      "metadata": {
        "colab": {
          "base_uri": "https://localhost:8080/"
        },
        "id": "i48a8wutTZnp",
        "outputId": "f23eed49-f764-4f86-b2b2-5e7eea36019e"
      },
      "execution_count": 6,
      "outputs": [
        {
          "output_type": "stream",
          "name": "stdout",
          "text": [
            "hello world\n",
            "4aa  13\n",
            "aba  b44\n",
            "ababaa5\n",
            "yaya---\n",
            "ikwak2@cau.ac.kr\n",
            "il.youp.kwak@gmail.com\n",
            "02-111-1234\n",
            "010-3234-5555\n",
            "01032321111\n",
            "hello send me a message(name.kwak@cau.ac.kr)\n",
            "call me (032 111 1424)\n",
            "\n",
            "---------------------------------------\n",
            "Match 1 was found at 13-15: aa\n",
            "Match 2 was found at 20-22: ab\n",
            "Match 3 was found at 29-31: ab\n",
            "Match 4 was found at 31-33: ab\n",
            "Match 5 was found at 33-35: aa\n"
          ]
        }
      ]
    },
    {
      "cell_type": "code",
      "source": [
        "print(test_str)\n",
        "print(\"---------------------------------------\")\n",
        "\n",
        "\n",
        "regex = r\"[a-z][a-z]\"\n",
        "\n",
        "matches = re.finditer(regex, test_str, re.MULTILINE)\n",
        "for matchNum, match in enumerate(matches, start=1):\n",
        "\n",
        "    print (\"Match {matchNum} was found at {start}-{end}: {match}\".format(matchNum = matchNum, start = match.start(), end = match.end(), match = match.group()))\n",
        "\n",
        "    for groupNum in range(0, len(match.groups())):\n",
        "        groupNum = groupNum + 1\n",
        "\n",
        "        print (\"Group {groupNum} found at {start}-{end}: {group}\".format(groupNum = groupNum, start = match.start(groupNum), end = match.end(groupNum), group = match.group(groupNum)))"
      ],
      "metadata": {
        "colab": {
          "base_uri": "https://localhost:8080/"
        },
        "id": "WRA1eaX_TZ5y",
        "outputId": "6e83fd4c-ab22-42a0-bcad-85fce4f0daa1"
      },
      "execution_count": 7,
      "outputs": [
        {
          "output_type": "stream",
          "name": "stdout",
          "text": [
            "hello world\n",
            "4aa  13\n",
            "aba  b44\n",
            "ababaa5\n",
            "yaya---\n",
            "ikwak2@cau.ac.kr\n",
            "il.youp.kwak@gmail.com\n",
            "02-111-1234\n",
            "010-3234-5555\n",
            "01032321111\n",
            "hello send me a message(name.kwak@cau.ac.kr)\n",
            "call me (032 111 1424)\n",
            "\n",
            "---------------------------------------\n",
            "Match 1 was found at 0-2: he\n",
            "Match 2 was found at 2-4: ll\n",
            "Match 3 was found at 6-8: wo\n",
            "Match 4 was found at 8-10: rl\n",
            "Match 5 was found at 13-15: aa\n",
            "Match 6 was found at 20-22: ab\n",
            "Match 7 was found at 29-31: ab\n",
            "Match 8 was found at 31-33: ab\n",
            "Match 9 was found at 33-35: aa\n",
            "Match 10 was found at 37-39: ya\n",
            "Match 11 was found at 39-41: ya\n",
            "Match 12 was found at 45-47: ik\n",
            "Match 13 was found at 47-49: wa\n",
            "Match 14 was found at 52-54: ca\n",
            "Match 15 was found at 56-58: ac\n",
            "Match 16 was found at 59-61: kr\n",
            "Match 17 was found at 62-64: il\n",
            "Match 18 was found at 65-67: yo\n",
            "Match 19 was found at 67-69: up\n",
            "Match 20 was found at 70-72: kw\n",
            "Match 21 was found at 72-74: ak\n",
            "Match 22 was found at 75-77: gm\n",
            "Match 23 was found at 77-79: ai\n",
            "Match 24 was found at 81-83: co\n",
            "Match 25 was found at 123-125: he\n",
            "Match 26 was found at 125-127: ll\n",
            "Match 27 was found at 129-131: se\n",
            "Match 28 was found at 131-133: nd\n",
            "Match 29 was found at 134-136: me\n",
            "Match 30 was found at 139-141: me\n",
            "Match 31 was found at 141-143: ss\n",
            "Match 32 was found at 143-145: ag\n",
            "Match 33 was found at 147-149: na\n",
            "Match 34 was found at 149-151: me\n",
            "Match 35 was found at 152-154: kw\n",
            "Match 36 was found at 154-156: ak\n",
            "Match 37 was found at 157-159: ca\n",
            "Match 38 was found at 161-163: ac\n",
            "Match 39 was found at 164-166: kr\n",
            "Match 40 was found at 168-170: ca\n",
            "Match 41 was found at 170-172: ll\n",
            "Match 42 was found at 173-175: me\n"
          ]
        }
      ]
    },
    {
      "cell_type": "markdown",
      "source": [
        "## Anchors"
      ],
      "metadata": {
        "id": "qeDW0L8mVzfo"
      }
    },
    {
      "cell_type": "code",
      "source": [
        "print(test_str)\n",
        "print(\"---------------------------------------\")\n",
        "\n",
        "regex = r\"^\\w\\w\"\n",
        "\n",
        "matches = re.finditer(regex, test_str, re.MULTILINE)\n",
        "for matchNum, match in enumerate(matches, start=1):\n",
        "\n",
        "    print (\"Match {matchNum} was found at {start}-{end}: {match}\".format(matchNum = matchNum, start = match.start(), end = match.end(), match = match.group()))\n",
        "\n",
        "    for groupNum in range(0, len(match.groups())):\n",
        "        groupNum = groupNum + 1\n",
        "\n",
        "        print (\"Group {groupNum} found at {start}-{end}: {group}\".format(groupNum = groupNum, start = match.start(groupNum), end = match.end(groupNum), group = match.group(groupNum)))"
      ],
      "metadata": {
        "colab": {
          "base_uri": "https://localhost:8080/"
        },
        "id": "dYJlZL2xVJpH",
        "outputId": "44039ac0-0226-4b4f-c9fe-6acf6e22bc27"
      },
      "execution_count": 8,
      "outputs": [
        {
          "output_type": "stream",
          "name": "stdout",
          "text": [
            "hello world\n",
            "4aa  13\n",
            "aba  b44\n",
            "ababaa5\n",
            "yaya---\n",
            "ikwak2@cau.ac.kr\n",
            "il.youp.kwak@gmail.com\n",
            "02-111-1234\n",
            "010-3234-5555\n",
            "01032321111\n",
            "hello send me a message(name.kwak@cau.ac.kr)\n",
            "call me (032 111 1424)\n",
            "\n",
            "---------------------------------------\n",
            "Match 1 was found at 0-2: he\n",
            "Match 2 was found at 12-14: 4a\n",
            "Match 3 was found at 20-22: ab\n",
            "Match 4 was found at 29-31: ab\n",
            "Match 5 was found at 37-39: ya\n",
            "Match 6 was found at 45-47: ik\n",
            "Match 7 was found at 62-64: il\n",
            "Match 8 was found at 85-87: 02\n",
            "Match 9 was found at 97-99: 01\n",
            "Match 10 was found at 111-113: 01\n",
            "Match 11 was found at 123-125: he\n",
            "Match 12 was found at 168-170: ca\n"
          ]
        }
      ]
    },
    {
      "cell_type": "code",
      "source": [
        "print(test_str)\n",
        "print(\"---------------------------------------\")\n",
        "\n",
        "regex = r\"\\w\\w$\"\n",
        "\n",
        "matches = re.finditer(regex, test_str, re.MULTILINE)\n",
        "for matchNum, match in enumerate(matches, start=1):\n",
        "\n",
        "    print (\"Match {matchNum} was found at {start}-{end}: {match}\".format(matchNum = matchNum, start = match.start(), end = match.end(), match = match.group()))\n",
        "\n",
        "    for groupNum in range(0, len(match.groups())):\n",
        "        groupNum = groupNum + 1\n",
        "\n",
        "        print (\"Group {groupNum} found at {start}-{end}: {group}\".format(groupNum = groupNum, start = match.start(groupNum), end = match.end(groupNum), group = match.group(groupNum)))"
      ],
      "metadata": {
        "colab": {
          "base_uri": "https://localhost:8080/"
        },
        "id": "hDJCCXz2V43l",
        "outputId": "29e3026f-f3e7-4d48-d3b1-cc73d2ad8a2a"
      },
      "execution_count": 9,
      "outputs": [
        {
          "output_type": "stream",
          "name": "stdout",
          "text": [
            "hello world\n",
            "4aa  13\n",
            "aba  b44\n",
            "ababaa5\n",
            "yaya---\n",
            "ikwak2@cau.ac.kr\n",
            "il.youp.kwak@gmail.com\n",
            "02-111-1234\n",
            "010-3234-5555\n",
            "01032321111\n",
            "hello send me a message(name.kwak@cau.ac.kr)\n",
            "call me (032 111 1424)\n",
            "\n",
            "---------------------------------------\n",
            "Match 1 was found at 9-11: ld\n",
            "Match 2 was found at 17-19: 13\n",
            "Match 3 was found at 26-28: 44\n",
            "Match 4 was found at 34-36: a5\n",
            "Match 5 was found at 59-61: kr\n",
            "Match 6 was found at 82-84: om\n",
            "Match 7 was found at 94-96: 34\n",
            "Match 8 was found at 108-110: 55\n",
            "Match 9 was found at 120-122: 11\n"
          ]
        }
      ]
    },
    {
      "cell_type": "code",
      "source": [
        "print(test_str)\n",
        "print(\"---------------------------------------\")\n",
        "\n",
        "regex = r\"\\d\\d\\b\"\n",
        "\n",
        "matches = re.finditer(regex, test_str, re.MULTILINE)\n",
        "for matchNum, match in enumerate(matches, start=1):\n",
        "\n",
        "    print (\"Match {matchNum} was found at {start}-{end}: {match}\".format(matchNum = matchNum, start = match.start(), end = match.end(), match = match.group()))\n",
        "\n",
        "    for groupNum in range(0, len(match.groups())):\n",
        "        groupNum = groupNum + 1\n",
        "\n",
        "        print (\"Group {groupNum} found at {start}-{end}: {group}\".format(groupNum = groupNum, start = match.start(groupNum), end = match.end(groupNum), group = match.group(groupNum)))"
      ],
      "metadata": {
        "colab": {
          "base_uri": "https://localhost:8080/"
        },
        "id": "QGdcCOKsWQo6",
        "outputId": "442c291e-9bad-45bb-c1ec-4200dca6f433"
      },
      "execution_count": 10,
      "outputs": [
        {
          "output_type": "stream",
          "name": "stdout",
          "text": [
            "hello world\n",
            "4aa  13\n",
            "aba  b44\n",
            "ababaa5\n",
            "yaya---\n",
            "ikwak2@cau.ac.kr\n",
            "il.youp.kwak@gmail.com\n",
            "02-111-1234\n",
            "010-3234-5555\n",
            "01032321111\n",
            "hello send me a message(name.kwak@cau.ac.kr)\n",
            "call me (032 111 1424)\n",
            "\n",
            "---------------------------------------\n",
            "Match 1 was found at 17-19: 13\n",
            "Match 2 was found at 26-28: 44\n",
            "Match 3 was found at 85-87: 02\n",
            "Match 4 was found at 89-91: 11\n",
            "Match 5 was found at 94-96: 34\n",
            "Match 6 was found at 98-100: 10\n",
            "Match 7 was found at 103-105: 34\n",
            "Match 8 was found at 108-110: 55\n",
            "Match 9 was found at 120-122: 11\n",
            "Match 10 was found at 178-180: 32\n",
            "Match 11 was found at 182-184: 11\n",
            "Match 12 was found at 187-189: 24\n"
          ]
        }
      ]
    },
    {
      "cell_type": "code",
      "source": [
        "print(test_str)\n",
        "print(\"---------------------------------------\")\n",
        "\n",
        "regex = r\"\\d\\d\\B\"\n",
        "\n",
        "matches = re.finditer(regex, test_str, re.MULTILINE)\n",
        "for matchNum, match in enumerate(matches, start=1):\n",
        "\n",
        "    print (\"Match {matchNum} was found at {start}-{end}: {match}\".format(matchNum = matchNum, start = match.start(), end = match.end(), match = match.group()))\n",
        "\n",
        "    for groupNum in range(0, len(match.groups())):\n",
        "        groupNum = groupNum + 1\n",
        "\n",
        "        print (\"Group {groupNum} found at {start}-{end}: {group}\".format(groupNum = groupNum, start = match.start(groupNum), end = match.end(groupNum), group = match.group(groupNum)))"
      ],
      "metadata": {
        "colab": {
          "base_uri": "https://localhost:8080/"
        },
        "id": "UaTg2i_9Xmc9",
        "outputId": "4c572e5c-9057-44e2-dfe2-ca6dde1c1e40"
      },
      "execution_count": 11,
      "outputs": [
        {
          "output_type": "stream",
          "name": "stdout",
          "text": [
            "hello world\n",
            "4aa  13\n",
            "aba  b44\n",
            "ababaa5\n",
            "yaya---\n",
            "ikwak2@cau.ac.kr\n",
            "il.youp.kwak@gmail.com\n",
            "02-111-1234\n",
            "010-3234-5555\n",
            "01032321111\n",
            "hello send me a message(name.kwak@cau.ac.kr)\n",
            "call me (032 111 1424)\n",
            "\n",
            "---------------------------------------\n",
            "Match 1 was found at 88-90: 11\n",
            "Match 2 was found at 92-94: 12\n",
            "Match 3 was found at 97-99: 01\n",
            "Match 4 was found at 101-103: 32\n",
            "Match 5 was found at 106-108: 55\n",
            "Match 6 was found at 111-113: 01\n",
            "Match 7 was found at 113-115: 03\n",
            "Match 8 was found at 115-117: 23\n",
            "Match 9 was found at 117-119: 21\n",
            "Match 10 was found at 119-121: 11\n",
            "Match 11 was found at 177-179: 03\n",
            "Match 12 was found at 181-183: 11\n",
            "Match 13 was found at 185-187: 14\n"
          ]
        }
      ]
    },
    {
      "cell_type": "markdown",
      "source": [
        "## Quantifiers"
      ],
      "metadata": {
        "id": "T_nNhc5LYC2H"
      }
    },
    {
      "cell_type": "code",
      "source": [
        "print(test_str)\n",
        "print(\"---------------------------------------\")\n",
        "\n",
        "regex = r\"\\d+\"\n",
        "\n",
        "matches = re.finditer(regex, test_str, re.MULTILINE)\n",
        "for matchNum, match in enumerate(matches, start=1):\n",
        "\n",
        "    print (\"Match {matchNum} was found at {start}-{end}: {match}\".format(matchNum = matchNum, start = match.start(), end = match.end(), match = match.group()))\n",
        "\n",
        "    for groupNum in range(0, len(match.groups())):\n",
        "        groupNum = groupNum + 1\n",
        "\n",
        "        print (\"Group {groupNum} found at {start}-{end}: {group}\".format(groupNum = groupNum, start = match.start(groupNum), end = match.end(groupNum), group = match.group(groupNum)))"
      ],
      "metadata": {
        "colab": {
          "base_uri": "https://localhost:8080/"
        },
        "id": "HhNPVwvyXLQK",
        "outputId": "7fcc0cdf-b16d-4c53-a1d5-4da7a836e3d1"
      },
      "execution_count": 12,
      "outputs": [
        {
          "output_type": "stream",
          "name": "stdout",
          "text": [
            "hello world\n",
            "4aa  13\n",
            "aba  b44\n",
            "ababaa5\n",
            "yaya---\n",
            "ikwak2@cau.ac.kr\n",
            "il.youp.kwak@gmail.com\n",
            "02-111-1234\n",
            "010-3234-5555\n",
            "01032321111\n",
            "hello send me a message(name.kwak@cau.ac.kr)\n",
            "call me (032 111 1424)\n",
            "\n",
            "---------------------------------------\n",
            "Match 1 was found at 12-13: 4\n",
            "Match 2 was found at 17-19: 13\n",
            "Match 3 was found at 26-28: 44\n",
            "Match 4 was found at 35-36: 5\n",
            "Match 5 was found at 50-51: 2\n",
            "Match 6 was found at 85-87: 02\n",
            "Match 7 was found at 88-91: 111\n",
            "Match 8 was found at 92-96: 1234\n",
            "Match 9 was found at 97-100: 010\n",
            "Match 10 was found at 101-105: 3234\n",
            "Match 11 was found at 106-110: 5555\n",
            "Match 12 was found at 111-122: 01032321111\n",
            "Match 13 was found at 177-180: 032\n",
            "Match 14 was found at 181-184: 111\n",
            "Match 15 was found at 185-189: 1424\n"
          ]
        }
      ]
    },
    {
      "cell_type": "code",
      "source": [
        "print(test_str)\n",
        "print(\"---------------------------------------\")\n",
        "\n",
        "regex = r\"\\d*\"\n",
        "\n",
        "matches = re.finditer(regex, test_str, re.MULTILINE)\n",
        "for matchNum, match in enumerate(matches, start=1):\n",
        "\n",
        "    print (\"Match {matchNum} was found at {start}-{end}: {match}\".format(matchNum = matchNum, start = match.start(), end = match.end(), match = match.group()))\n",
        "\n",
        "    for groupNum in range(0, len(match.groups())):\n",
        "        groupNum = groupNum + 1\n",
        "\n",
        "        print (\"Group {groupNum} found at {start}-{end}: {group}\".format(groupNum = groupNum, start = match.start(groupNum), end = match.end(groupNum), group = match.group(groupNum)))"
      ],
      "metadata": {
        "colab": {
          "base_uri": "https://localhost:8080/"
        },
        "id": "TjjdJob1YZTI",
        "outputId": "8a84a8fd-a1fc-4e9e-e926-3374a14f11f7"
      },
      "execution_count": 13,
      "outputs": [
        {
          "output_type": "stream",
          "name": "stdout",
          "text": [
            "hello world\n",
            "4aa  13\n",
            "aba  b44\n",
            "ababaa5\n",
            "yaya---\n",
            "ikwak2@cau.ac.kr\n",
            "il.youp.kwak@gmail.com\n",
            "02-111-1234\n",
            "010-3234-5555\n",
            "01032321111\n",
            "hello send me a message(name.kwak@cau.ac.kr)\n",
            "call me (032 111 1424)\n",
            "\n",
            "---------------------------------------\n",
            "Match 1 was found at 0-0: \n",
            "Match 2 was found at 1-1: \n",
            "Match 3 was found at 2-2: \n",
            "Match 4 was found at 3-3: \n",
            "Match 5 was found at 4-4: \n",
            "Match 6 was found at 5-5: \n",
            "Match 7 was found at 6-6: \n",
            "Match 8 was found at 7-7: \n",
            "Match 9 was found at 8-8: \n",
            "Match 10 was found at 9-9: \n",
            "Match 11 was found at 10-10: \n",
            "Match 12 was found at 11-11: \n",
            "Match 13 was found at 12-13: 4\n",
            "Match 14 was found at 13-13: \n",
            "Match 15 was found at 14-14: \n",
            "Match 16 was found at 15-15: \n",
            "Match 17 was found at 16-16: \n",
            "Match 18 was found at 17-19: 13\n",
            "Match 19 was found at 19-19: \n",
            "Match 20 was found at 20-20: \n",
            "Match 21 was found at 21-21: \n",
            "Match 22 was found at 22-22: \n",
            "Match 23 was found at 23-23: \n",
            "Match 24 was found at 24-24: \n",
            "Match 25 was found at 25-25: \n",
            "Match 26 was found at 26-28: 44\n",
            "Match 27 was found at 28-28: \n",
            "Match 28 was found at 29-29: \n",
            "Match 29 was found at 30-30: \n",
            "Match 30 was found at 31-31: \n",
            "Match 31 was found at 32-32: \n",
            "Match 32 was found at 33-33: \n",
            "Match 33 was found at 34-34: \n",
            "Match 34 was found at 35-36: 5\n",
            "Match 35 was found at 36-36: \n",
            "Match 36 was found at 37-37: \n",
            "Match 37 was found at 38-38: \n",
            "Match 38 was found at 39-39: \n",
            "Match 39 was found at 40-40: \n",
            "Match 40 was found at 41-41: \n",
            "Match 41 was found at 42-42: \n",
            "Match 42 was found at 43-43: \n",
            "Match 43 was found at 44-44: \n",
            "Match 44 was found at 45-45: \n",
            "Match 45 was found at 46-46: \n",
            "Match 46 was found at 47-47: \n",
            "Match 47 was found at 48-48: \n",
            "Match 48 was found at 49-49: \n",
            "Match 49 was found at 50-51: 2\n",
            "Match 50 was found at 51-51: \n",
            "Match 51 was found at 52-52: \n",
            "Match 52 was found at 53-53: \n",
            "Match 53 was found at 54-54: \n",
            "Match 54 was found at 55-55: \n",
            "Match 55 was found at 56-56: \n",
            "Match 56 was found at 57-57: \n",
            "Match 57 was found at 58-58: \n",
            "Match 58 was found at 59-59: \n",
            "Match 59 was found at 60-60: \n",
            "Match 60 was found at 61-61: \n",
            "Match 61 was found at 62-62: \n",
            "Match 62 was found at 63-63: \n",
            "Match 63 was found at 64-64: \n",
            "Match 64 was found at 65-65: \n",
            "Match 65 was found at 66-66: \n",
            "Match 66 was found at 67-67: \n",
            "Match 67 was found at 68-68: \n",
            "Match 68 was found at 69-69: \n",
            "Match 69 was found at 70-70: \n",
            "Match 70 was found at 71-71: \n",
            "Match 71 was found at 72-72: \n",
            "Match 72 was found at 73-73: \n",
            "Match 73 was found at 74-74: \n",
            "Match 74 was found at 75-75: \n",
            "Match 75 was found at 76-76: \n",
            "Match 76 was found at 77-77: \n",
            "Match 77 was found at 78-78: \n",
            "Match 78 was found at 79-79: \n",
            "Match 79 was found at 80-80: \n",
            "Match 80 was found at 81-81: \n",
            "Match 81 was found at 82-82: \n",
            "Match 82 was found at 83-83: \n",
            "Match 83 was found at 84-84: \n",
            "Match 84 was found at 85-87: 02\n",
            "Match 85 was found at 87-87: \n",
            "Match 86 was found at 88-91: 111\n",
            "Match 87 was found at 91-91: \n",
            "Match 88 was found at 92-96: 1234\n",
            "Match 89 was found at 96-96: \n",
            "Match 90 was found at 97-100: 010\n",
            "Match 91 was found at 100-100: \n",
            "Match 92 was found at 101-105: 3234\n",
            "Match 93 was found at 105-105: \n",
            "Match 94 was found at 106-110: 5555\n",
            "Match 95 was found at 110-110: \n",
            "Match 96 was found at 111-122: 01032321111\n",
            "Match 97 was found at 122-122: \n",
            "Match 98 was found at 123-123: \n",
            "Match 99 was found at 124-124: \n",
            "Match 100 was found at 125-125: \n",
            "Match 101 was found at 126-126: \n",
            "Match 102 was found at 127-127: \n",
            "Match 103 was found at 128-128: \n",
            "Match 104 was found at 129-129: \n",
            "Match 105 was found at 130-130: \n",
            "Match 106 was found at 131-131: \n",
            "Match 107 was found at 132-132: \n",
            "Match 108 was found at 133-133: \n",
            "Match 109 was found at 134-134: \n",
            "Match 110 was found at 135-135: \n",
            "Match 111 was found at 136-136: \n",
            "Match 112 was found at 137-137: \n",
            "Match 113 was found at 138-138: \n",
            "Match 114 was found at 139-139: \n",
            "Match 115 was found at 140-140: \n",
            "Match 116 was found at 141-141: \n",
            "Match 117 was found at 142-142: \n",
            "Match 118 was found at 143-143: \n",
            "Match 119 was found at 144-144: \n",
            "Match 120 was found at 145-145: \n",
            "Match 121 was found at 146-146: \n",
            "Match 122 was found at 147-147: \n",
            "Match 123 was found at 148-148: \n",
            "Match 124 was found at 149-149: \n",
            "Match 125 was found at 150-150: \n",
            "Match 126 was found at 151-151: \n",
            "Match 127 was found at 152-152: \n",
            "Match 128 was found at 153-153: \n",
            "Match 129 was found at 154-154: \n",
            "Match 130 was found at 155-155: \n",
            "Match 131 was found at 156-156: \n",
            "Match 132 was found at 157-157: \n",
            "Match 133 was found at 158-158: \n",
            "Match 134 was found at 159-159: \n",
            "Match 135 was found at 160-160: \n",
            "Match 136 was found at 161-161: \n",
            "Match 137 was found at 162-162: \n",
            "Match 138 was found at 163-163: \n",
            "Match 139 was found at 164-164: \n",
            "Match 140 was found at 165-165: \n",
            "Match 141 was found at 166-166: \n",
            "Match 142 was found at 167-167: \n",
            "Match 143 was found at 168-168: \n",
            "Match 144 was found at 169-169: \n",
            "Match 145 was found at 170-170: \n",
            "Match 146 was found at 171-171: \n",
            "Match 147 was found at 172-172: \n",
            "Match 148 was found at 173-173: \n",
            "Match 149 was found at 174-174: \n",
            "Match 150 was found at 175-175: \n",
            "Match 151 was found at 176-176: \n",
            "Match 152 was found at 177-180: 032\n",
            "Match 153 was found at 180-180: \n",
            "Match 154 was found at 181-184: 111\n",
            "Match 155 was found at 184-184: \n",
            "Match 156 was found at 185-189: 1424\n",
            "Match 157 was found at 189-189: \n",
            "Match 158 was found at 190-190: \n",
            "Match 159 was found at 191-191: \n"
          ]
        }
      ]
    },
    {
      "cell_type": "code",
      "source": [
        "print(test_str)\n",
        "print(\"---------------------------------------\")\n",
        "\n",
        "regex = r\"\\d?\"\n",
        "\n",
        "matches = re.finditer(regex, test_str, re.MULTILINE)\n",
        "for matchNum, match in enumerate(matches, start=1):\n",
        "\n",
        "    print (\"Match {matchNum} was found at {start}-{end}: {match}\".format(matchNum = matchNum, start = match.start(), end = match.end(), match = match.group()))\n",
        "\n",
        "    for groupNum in range(0, len(match.groups())):\n",
        "        groupNum = groupNum + 1\n",
        "\n",
        "        print (\"Group {groupNum} found at {start}-{end}: {group}\".format(groupNum = groupNum, start = match.start(groupNum), end = match.end(groupNum), group = match.group(groupNum)))"
      ],
      "metadata": {
        "colab": {
          "base_uri": "https://localhost:8080/"
        },
        "id": "PajVwmh1YhAr",
        "outputId": "c130c640-3b02-4ceb-d502-c3a1579ae949"
      },
      "execution_count": 21,
      "outputs": [
        {
          "output_type": "stream",
          "name": "stdout",
          "text": [
            "hello world\n",
            "4aa  13\n",
            "aba  b44\n",
            "ababaa5\n",
            "yaya---\n",
            "ikwak2@cau.ac.kr\n",
            "il.youp.kwak@gmail.com\n",
            "02-111-1234\n",
            "010-3234-5555\n",
            "01032321111\n",
            "hello send me a message(name.kwak@cau.ac.kr)\n",
            "call me (032 111 1424)\n",
            "\n",
            "---------------------------------------\n",
            "Match 1 was found at 0-0: \n",
            "Match 2 was found at 1-1: \n",
            "Match 3 was found at 2-2: \n",
            "Match 4 was found at 3-3: \n",
            "Match 5 was found at 4-4: \n",
            "Match 6 was found at 5-5: \n",
            "Match 7 was found at 6-6: \n",
            "Match 8 was found at 7-7: \n",
            "Match 9 was found at 8-8: \n",
            "Match 10 was found at 9-9: \n",
            "Match 11 was found at 10-10: \n",
            "Match 12 was found at 11-11: \n",
            "Match 13 was found at 12-13: 4\n",
            "Match 14 was found at 13-13: \n",
            "Match 15 was found at 14-14: \n",
            "Match 16 was found at 15-15: \n",
            "Match 17 was found at 16-16: \n",
            "Match 18 was found at 17-18: 1\n",
            "Match 19 was found at 18-19: 3\n",
            "Match 20 was found at 19-19: \n",
            "Match 21 was found at 20-20: \n",
            "Match 22 was found at 21-21: \n",
            "Match 23 was found at 22-22: \n",
            "Match 24 was found at 23-23: \n",
            "Match 25 was found at 24-24: \n",
            "Match 26 was found at 25-25: \n",
            "Match 27 was found at 26-27: 4\n",
            "Match 28 was found at 27-28: 4\n",
            "Match 29 was found at 28-28: \n",
            "Match 30 was found at 29-29: \n",
            "Match 31 was found at 30-30: \n",
            "Match 32 was found at 31-31: \n",
            "Match 33 was found at 32-32: \n",
            "Match 34 was found at 33-33: \n",
            "Match 35 was found at 34-34: \n",
            "Match 36 was found at 35-36: 5\n",
            "Match 37 was found at 36-36: \n",
            "Match 38 was found at 37-37: \n",
            "Match 39 was found at 38-38: \n",
            "Match 40 was found at 39-39: \n",
            "Match 41 was found at 40-40: \n",
            "Match 42 was found at 41-41: \n",
            "Match 43 was found at 42-42: \n",
            "Match 44 was found at 43-43: \n",
            "Match 45 was found at 44-44: \n",
            "Match 46 was found at 45-45: \n",
            "Match 47 was found at 46-46: \n",
            "Match 48 was found at 47-47: \n",
            "Match 49 was found at 48-48: \n",
            "Match 50 was found at 49-49: \n",
            "Match 51 was found at 50-51: 2\n",
            "Match 52 was found at 51-51: \n",
            "Match 53 was found at 52-52: \n",
            "Match 54 was found at 53-53: \n",
            "Match 55 was found at 54-54: \n",
            "Match 56 was found at 55-55: \n",
            "Match 57 was found at 56-56: \n",
            "Match 58 was found at 57-57: \n",
            "Match 59 was found at 58-58: \n",
            "Match 60 was found at 59-59: \n",
            "Match 61 was found at 60-60: \n",
            "Match 62 was found at 61-61: \n",
            "Match 63 was found at 62-62: \n",
            "Match 64 was found at 63-63: \n",
            "Match 65 was found at 64-64: \n",
            "Match 66 was found at 65-65: \n",
            "Match 67 was found at 66-66: \n",
            "Match 68 was found at 67-67: \n",
            "Match 69 was found at 68-68: \n",
            "Match 70 was found at 69-69: \n",
            "Match 71 was found at 70-70: \n",
            "Match 72 was found at 71-71: \n",
            "Match 73 was found at 72-72: \n",
            "Match 74 was found at 73-73: \n",
            "Match 75 was found at 74-74: \n",
            "Match 76 was found at 75-75: \n",
            "Match 77 was found at 76-76: \n",
            "Match 78 was found at 77-77: \n",
            "Match 79 was found at 78-78: \n",
            "Match 80 was found at 79-79: \n",
            "Match 81 was found at 80-80: \n",
            "Match 82 was found at 81-81: \n",
            "Match 83 was found at 82-82: \n",
            "Match 84 was found at 83-83: \n",
            "Match 85 was found at 84-84: \n",
            "Match 86 was found at 85-86: 0\n",
            "Match 87 was found at 86-87: 2\n",
            "Match 88 was found at 87-87: \n",
            "Match 89 was found at 88-89: 1\n",
            "Match 90 was found at 89-90: 1\n",
            "Match 91 was found at 90-91: 1\n",
            "Match 92 was found at 91-91: \n",
            "Match 93 was found at 92-93: 1\n",
            "Match 94 was found at 93-94: 2\n",
            "Match 95 was found at 94-95: 3\n",
            "Match 96 was found at 95-96: 4\n",
            "Match 97 was found at 96-96: \n",
            "Match 98 was found at 97-98: 0\n",
            "Match 99 was found at 98-99: 1\n",
            "Match 100 was found at 99-100: 0\n",
            "Match 101 was found at 100-100: \n",
            "Match 102 was found at 101-102: 3\n",
            "Match 103 was found at 102-103: 2\n",
            "Match 104 was found at 103-104: 3\n",
            "Match 105 was found at 104-105: 4\n",
            "Match 106 was found at 105-105: \n",
            "Match 107 was found at 106-107: 5\n",
            "Match 108 was found at 107-108: 5\n",
            "Match 109 was found at 108-109: 5\n",
            "Match 110 was found at 109-110: 5\n",
            "Match 111 was found at 110-110: \n",
            "Match 112 was found at 111-112: 0\n",
            "Match 113 was found at 112-113: 1\n",
            "Match 114 was found at 113-114: 0\n",
            "Match 115 was found at 114-115: 3\n",
            "Match 116 was found at 115-116: 2\n",
            "Match 117 was found at 116-117: 3\n",
            "Match 118 was found at 117-118: 2\n",
            "Match 119 was found at 118-119: 1\n",
            "Match 120 was found at 119-120: 1\n",
            "Match 121 was found at 120-121: 1\n",
            "Match 122 was found at 121-122: 1\n",
            "Match 123 was found at 122-122: \n",
            "Match 124 was found at 123-123: \n",
            "Match 125 was found at 124-124: \n",
            "Match 126 was found at 125-125: \n",
            "Match 127 was found at 126-126: \n",
            "Match 128 was found at 127-127: \n",
            "Match 129 was found at 128-128: \n",
            "Match 130 was found at 129-129: \n",
            "Match 131 was found at 130-130: \n",
            "Match 132 was found at 131-131: \n",
            "Match 133 was found at 132-132: \n",
            "Match 134 was found at 133-133: \n",
            "Match 135 was found at 134-134: \n",
            "Match 136 was found at 135-135: \n",
            "Match 137 was found at 136-136: \n",
            "Match 138 was found at 137-137: \n",
            "Match 139 was found at 138-138: \n",
            "Match 140 was found at 139-139: \n",
            "Match 141 was found at 140-140: \n",
            "Match 142 was found at 141-141: \n",
            "Match 143 was found at 142-142: \n",
            "Match 144 was found at 143-143: \n",
            "Match 145 was found at 144-144: \n",
            "Match 146 was found at 145-145: \n",
            "Match 147 was found at 146-146: \n",
            "Match 148 was found at 147-147: \n",
            "Match 149 was found at 148-148: \n",
            "Match 150 was found at 149-149: \n",
            "Match 151 was found at 150-150: \n",
            "Match 152 was found at 151-151: \n",
            "Match 153 was found at 152-152: \n",
            "Match 154 was found at 153-153: \n",
            "Match 155 was found at 154-154: \n",
            "Match 156 was found at 155-155: \n",
            "Match 157 was found at 156-156: \n",
            "Match 158 was found at 157-157: \n",
            "Match 159 was found at 158-158: \n",
            "Match 160 was found at 159-159: \n",
            "Match 161 was found at 160-160: \n",
            "Match 162 was found at 161-161: \n",
            "Match 163 was found at 162-162: \n",
            "Match 164 was found at 163-163: \n",
            "Match 165 was found at 164-164: \n",
            "Match 166 was found at 165-165: \n",
            "Match 167 was found at 166-166: \n",
            "Match 168 was found at 167-167: \n",
            "Match 169 was found at 168-168: \n",
            "Match 170 was found at 169-169: \n",
            "Match 171 was found at 170-170: \n",
            "Match 172 was found at 171-171: \n",
            "Match 173 was found at 172-172: \n",
            "Match 174 was found at 173-173: \n",
            "Match 175 was found at 174-174: \n",
            "Match 176 was found at 175-175: \n",
            "Match 177 was found at 176-176: \n",
            "Match 178 was found at 177-178: 0\n",
            "Match 179 was found at 178-179: 3\n",
            "Match 180 was found at 179-180: 2\n",
            "Match 181 was found at 180-180: \n",
            "Match 182 was found at 181-182: 1\n",
            "Match 183 was found at 182-183: 1\n",
            "Match 184 was found at 183-184: 1\n",
            "Match 185 was found at 184-184: \n",
            "Match 186 was found at 185-186: 1\n",
            "Match 187 was found at 186-187: 4\n",
            "Match 188 was found at 187-188: 2\n",
            "Match 189 was found at 188-189: 4\n",
            "Match 190 was found at 189-189: \n",
            "Match 191 was found at 190-190: \n",
            "Match 192 was found at 191-191: \n"
          ]
        }
      ]
    },
    {
      "cell_type": "markdown",
      "source": [
        "#### aa or there is one character between 'aa'\n",
        "\n",
        " aa 또는 aa 사이에 문자가 있는경우 찾기"
      ],
      "metadata": {
        "id": "KdYzD999ZRgz"
      }
    },
    {
      "cell_type": "code",
      "source": [
        "print(test_str)\n",
        "print(\"---------------------------------------\")\n",
        "\n",
        "regex = r\"a[a-z]?a\"\n",
        "\n",
        "matches = re.finditer(regex, test_str, re.MULTILINE)\n",
        "for matchNum, match in enumerate(matches, start=1):\n",
        "\n",
        "    print (\"Match {matchNum} was found at {start}-{end}: {match}\".format(matchNum = matchNum, start = match.start(), end = match.end(), match = match.group()))\n",
        "\n",
        "    for groupNum in range(0, len(match.groups())):\n",
        "        groupNum = groupNum + 1\n",
        "\n",
        "        print (\"Group {groupNum} found at {start}-{end}: {group}\".format(groupNum = groupNum, start = match.start(groupNum), end = match.end(groupNum), group = match.group(groupNum)))"
      ],
      "metadata": {
        "colab": {
          "base_uri": "https://localhost:8080/"
        },
        "id": "ULQXoG1kYmNJ",
        "outputId": "23b58ef4-b908-4e86-d780-882884f3277e"
      },
      "execution_count": 20,
      "outputs": [
        {
          "output_type": "stream",
          "name": "stdout",
          "text": [
            "hello world\n",
            "4aa  13\n",
            "aba  b44\n",
            "ababaa5\n",
            "yaya---\n",
            "ikwak2@cau.ac.kr\n",
            "il.youp.kwak@gmail.com\n",
            "02-111-1234\n",
            "010-3234-5555\n",
            "01032321111\n",
            "hello send me a message(name.kwak@cau.ac.kr)\n",
            "call me (032 111 1424)\n",
            "\n",
            "---------------------------------------\n",
            "Match 1 was found at 13-15: aa\n",
            "Match 2 was found at 20-23: aba\n",
            "Match 3 was found at 29-32: aba\n",
            "Match 4 was found at 33-35: aa\n",
            "Match 5 was found at 38-41: aya\n"
          ]
        }
      ]
    },
    {
      "cell_type": "markdown",
      "source": [
        "#### First 2-3 digits from phone numbers\n",
        "\n",
        "전화번호 앞자리만 찾기"
      ],
      "metadata": {
        "id": "Q2aiEGMDZXq6"
      }
    },
    {
      "cell_type": "code",
      "source": [
        "print(test_str)\n",
        "print(\"---------------------------------------\")\n",
        "\n",
        "regex = r\"^\\d{2,3}\"\n",
        "\n",
        "matches = re.finditer(regex, test_str, re.MULTILINE)\n",
        "for matchNum, match in enumerate(matches, start=1):\n",
        "\n",
        "    print (\"Match {matchNum} was found at {start}-{end}: {match}\".format(matchNum = matchNum, start = match.start(), end = match.end(), match = match.group()))\n",
        "\n",
        "    for groupNum in range(0, len(match.groups())):\n",
        "        groupNum = groupNum + 1\n",
        "\n",
        "        print (\"Group {groupNum} found at {start}-{end}: {group}\".format(groupNum = groupNum, start = match.start(groupNum), end = match.end(groupNum), group = match.group(groupNum)))"
      ],
      "metadata": {
        "colab": {
          "base_uri": "https://localhost:8080/"
        },
        "id": "BaLB9N31ZDZ4",
        "outputId": "de16c0f8-a5d7-4c3f-a41f-7e904c3da59c"
      },
      "execution_count": 19,
      "outputs": [
        {
          "output_type": "stream",
          "name": "stdout",
          "text": [
            "hello world\n",
            "4aa  13\n",
            "aba  b44\n",
            "ababaa5\n",
            "yaya---\n",
            "ikwak2@cau.ac.kr\n",
            "il.youp.kwak@gmail.com\n",
            "02-111-1234\n",
            "010-3234-5555\n",
            "01032321111\n",
            "hello send me a message(name.kwak@cau.ac.kr)\n",
            "call me (032 111 1424)\n",
            "\n",
            "---------------------------------------\n",
            "Match 1 was found at 85-87: 02\n",
            "Match 2 was found at 97-100: 010\n",
            "Match 3 was found at 111-114: 010\n"
          ]
        }
      ]
    },
    {
      "cell_type": "markdown",
      "source": [
        "## Groups & Lookaround"
      ],
      "metadata": {
        "id": "xlMgqbNFZecY"
      }
    },
    {
      "cell_type": "code",
      "source": [
        "print(test_str)\n",
        "print(\"---------------------------------------\")\n",
        "\n",
        "regex = r\"(\\w\\w)\\1\"\n",
        "\n",
        "matches = re.finditer(regex, test_str, re.MULTILINE)\n",
        "for matchNum, match in enumerate(matches, start=1):\n",
        "\n",
        "    print (\"Match {matchNum} was found at {start}-{end}: {match}\".format(matchNum = matchNum, start = match.start(), end = match.end(), match = match.group()))\n",
        "\n",
        "    for groupNum in range(0, len(match.groups())):\n",
        "        groupNum = groupNum + 1\n",
        "\n",
        "        print (\"Group {groupNum} found at {start}-{end}: {group}\".format(groupNum = groupNum, start = match.start(groupNum), end = match.end(groupNum), group = match.group(groupNum)))"
      ],
      "metadata": {
        "colab": {
          "base_uri": "https://localhost:8080/"
        },
        "id": "mZLVTJyUZdpi",
        "outputId": "c17c2dbe-b02e-4d5c-c135-66d89865629b"
      },
      "execution_count": 18,
      "outputs": [
        {
          "output_type": "stream",
          "name": "stdout",
          "text": [
            "hello world\n",
            "4aa  13\n",
            "aba  b44\n",
            "ababaa5\n",
            "yaya---\n",
            "ikwak2@cau.ac.kr\n",
            "il.youp.kwak@gmail.com\n",
            "02-111-1234\n",
            "010-3234-5555\n",
            "01032321111\n",
            "hello send me a message(name.kwak@cau.ac.kr)\n",
            "call me (032 111 1424)\n",
            "\n",
            "---------------------------------------\n",
            "Match 1 was found at 29-33: abab\n",
            "Group 1 found at 29-31: ab\n",
            "Match 2 was found at 37-41: yaya\n",
            "Group 1 found at 37-39: ya\n",
            "Match 3 was found at 106-110: 5555\n",
            "Group 1 found at 106-108: 55\n",
            "Match 4 was found at 114-118: 3232\n",
            "Group 1 found at 114-116: 32\n",
            "Match 5 was found at 118-122: 1111\n",
            "Group 1 found at 118-120: 11\n"
          ]
        }
      ]
    },
    {
      "cell_type": "code",
      "source": [
        "print(test_str)\n",
        "print(\"---------------------------------------\")\n",
        "\n",
        "regex = r\"(?:\\w\\w\\w)@\"\n",
        "\n",
        "matches = re.finditer(regex, test_str, re.MULTILINE)\n",
        "for matchNum, match in enumerate(matches, start=1):\n",
        "\n",
        "    print (\"Match {matchNum} was found at {start}-{end}: {match}\".format(matchNum = matchNum, start = match.start(), end = match.end(), match = match.group()))\n",
        "\n",
        "    for groupNum in range(0, len(match.groups())):\n",
        "        groupNum = groupNum + 1\n",
        "\n",
        "        print (\"Group {groupNum} found at {start}-{end}: {group}\".format(groupNum = groupNum, start = match.start(groupNum), end = match.end(groupNum), group = match.group(groupNum)))"
      ],
      "metadata": {
        "colab": {
          "base_uri": "https://localhost:8080/"
        },
        "id": "grK3mzeRZM4p",
        "outputId": "32580925-1b2b-426c-df54-589fec631848"
      },
      "execution_count": 17,
      "outputs": [
        {
          "output_type": "stream",
          "name": "stdout",
          "text": [
            "hello world\n",
            "4aa  13\n",
            "aba  b44\n",
            "ababaa5\n",
            "yaya---\n",
            "ikwak2@cau.ac.kr\n",
            "il.youp.kwak@gmail.com\n",
            "02-111-1234\n",
            "010-3234-5555\n",
            "01032321111\n",
            "hello send me a message(name.kwak@cau.ac.kr)\n",
            "call me (032 111 1424)\n",
            "\n",
            "---------------------------------------\n",
            "Match 1 was found at 48-52: ak2@\n",
            "Match 2 was found at 71-75: wak@\n",
            "Match 3 was found at 153-157: wak@\n"
          ]
        }
      ]
    },
    {
      "cell_type": "markdown",
      "source": [
        "## Practice"
      ],
      "metadata": {
        "id": "THpzBTu6d3dB"
      }
    },
    {
      "cell_type": "markdown",
      "source": [
        "### Search for e-mail addresses\n",
        "\n",
        "이메일 주소 찾기"
      ],
      "metadata": {
        "id": "Fyxgentea4p0"
      }
    },
    {
      "cell_type": "code",
      "source": [
        "print(test_str)\n",
        "print(\"---------------------------------------\")\n",
        "\n",
        "regex = r\"[\\w\\.-]+@[\\w\\.]+.\\w{2,3}\"\n",
        "\n",
        "matches = re.finditer(regex, test_str, re.MULTILINE)\n",
        "for matchNum, match in enumerate(matches, start=1):\n",
        "\n",
        "    print (\"Match {matchNum} was found at {start}-{end}: {match}\".format(matchNum = matchNum, start = match.start(), end = match.end(), match = match.group()))\n",
        "\n",
        "    for groupNum in range(0, len(match.groups())):\n",
        "        groupNum = groupNum + 1\n",
        "\n",
        "        print (\"Group {groupNum} found at {start}-{end}: {group}\".format(groupNum = groupNum, start = match.start(groupNum), end = match.end(groupNum), group = match.group(groupNum)))"
      ],
      "metadata": {
        "colab": {
          "base_uri": "https://localhost:8080/"
        },
        "id": "lFFX3WAYaaJY",
        "outputId": "ec0269bf-6bc3-4b47-d9dc-b009983622f2"
      },
      "execution_count": 16,
      "outputs": [
        {
          "output_type": "stream",
          "name": "stdout",
          "text": [
            "hello world\n",
            "4aa  13\n",
            "aba  b44\n",
            "ababaa5\n",
            "yaya---\n",
            "ikwak2@cau.ac.kr\n",
            "il.youp.kwak@gmail.com\n",
            "02-111-1234\n",
            "010-3234-5555\n",
            "01032321111\n",
            "hello send me a message(name.kwak@cau.ac.kr)\n",
            "call me (032 111 1424)\n",
            "\n",
            "---------------------------------------\n",
            "Match 1 was found at 45-61: ikwak2@cau.ac.kr\n",
            "Match 2 was found at 62-84: il.youp.kwak@gmail.com\n",
            "Match 3 was found at 147-166: name.kwak@cau.ac.kr\n"
          ]
        }
      ]
    },
    {
      "cell_type": "markdown",
      "source": [
        "### Search for phone numbers\n",
        "\n",
        "전화번호 찾기"
      ],
      "metadata": {
        "id": "oiMPiGknbqsh"
      }
    },
    {
      "cell_type": "code",
      "source": [
        "print(test_str)\n",
        "print(\"---------------------------------------\")\n",
        "\n",
        "regex = r\"\\d{2,3}[- ]?\\d{3,4}[- ]?\\d{4}\"\n",
        "\n",
        "matches = re.finditer(regex, test_str, re.MULTILINE)\n",
        "for matchNum, match in enumerate(matches, start=1):\n",
        "\n",
        "    print (\"Match {matchNum} was found at {start}-{end}: {match}\".format(matchNum = matchNum, start = match.start(), end = match.end(), match = match.group()))\n",
        "\n",
        "    for groupNum in range(0, len(match.groups())):\n",
        "        groupNum = groupNum + 1\n",
        "\n",
        "        print (\"Group {groupNum} found at {start}-{end}: {group}\".format(groupNum = groupNum, start = match.start(groupNum), end = match.end(groupNum), group = match.group(groupNum)))"
      ],
      "metadata": {
        "colab": {
          "base_uri": "https://localhost:8080/"
        },
        "id": "_hmRPowUbZBj",
        "outputId": "9c0dfa07-952c-4b03-d7aa-566012bc1e7d"
      },
      "execution_count": 15,
      "outputs": [
        {
          "output_type": "stream",
          "name": "stdout",
          "text": [
            "hello world\n",
            "4aa  13\n",
            "aba  b44\n",
            "ababaa5\n",
            "yaya---\n",
            "ikwak2@cau.ac.kr\n",
            "il.youp.kwak@gmail.com\n",
            "02-111-1234\n",
            "010-3234-5555\n",
            "01032321111\n",
            "hello send me a message(name.kwak@cau.ac.kr)\n",
            "call me (032 111 1424)\n",
            "\n",
            "---------------------------------------\n",
            "Match 1 was found at 85-96: 02-111-1234\n",
            "Match 2 was found at 97-110: 010-3234-5555\n",
            "Match 3 was found at 111-122: 01032321111\n",
            "Match 4 was found at 177-189: 032 111 1424\n"
          ]
        }
      ]
    },
    {
      "cell_type": "markdown",
      "source": [
        "### masking middle phone numbers\n",
        "\n",
        "전화번호 가운데 숫자들 감추기"
      ],
      "metadata": {
        "id": "SK0YjVB8dZKB"
      }
    },
    {
      "cell_type": "code",
      "source": [
        "import re\n",
        "\n",
        "regex = r\"(\\d{2,3})[- ]?(?:\\d{3,4})[- ]?(\\d{4})\"\n",
        "\n",
        "subst = \"\\\\1-****-\\\\2\"\n",
        "\n",
        "# You can manually specify the number of replacements by changing the 4th argument\n",
        "result = re.sub(regex, subst, test_str, 0, re.MULTILINE)\n",
        "\n",
        "if result:\n",
        "    print (result)"
      ],
      "metadata": {
        "colab": {
          "base_uri": "https://localhost:8080/"
        },
        "id": "UtZ2RFx3bWw5",
        "outputId": "2f9f71ab-dec3-4c84-ac27-2ec66927b991"
      },
      "execution_count": 14,
      "outputs": [
        {
          "output_type": "stream",
          "name": "stdout",
          "text": [
            "hello world\n",
            "4aa  13\n",
            "aba  b44\n",
            "ababaa5\n",
            "yaya---\n",
            "ikwak2@cau.ac.kr\n",
            "il.youp.kwak@gmail.com\n",
            "02-****-1234\n",
            "010-****-5555\n",
            "010-****-1111\n",
            "hello send me a message(name.kwak@cau.ac.kr)\n",
            "call me (032-****-1424)\n",
            "\n"
          ]
        }
      ]
    },
    {
      "cell_type": "code",
      "source": [],
      "metadata": {
        "id": "HQ3dsRD8dWY4"
      },
      "execution_count": null,
      "outputs": []
    }
  ]
}